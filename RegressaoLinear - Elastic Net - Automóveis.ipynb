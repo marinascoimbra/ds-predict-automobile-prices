{
 "cells": [
  {
   "cell_type": "code",
   "execution_count": 92,
   "metadata": {},
   "outputs": [],
   "source": [
    "import pandas as pd\n",
    "import numpy as np\n",
    "import plotly.express as px\n",
    "import seaborn as sns\n",
    "import matplotlib.pyplot as plt\n",
    "import statsmodels.api as sm\n",
    "\n",
    "from sklearn import metrics\n",
    "from sklearn.impute import SimpleImputer\n",
    "from sklearn.preprocessing import MinMaxScaler\n",
    "from sklearn.preprocessing import StandardScaler\n",
    "from sklearn.linear_model import ElasticNet\n",
    "from sklearn.pipeline import Pipeline, FeatureUnion\n",
    "from sklearn.model_selection import train_test_split, GridSearchCV\n",
    "from sklearn.metrics import mean_squared_error, r2_score\n",
    "from sklearn.base import BaseEstimator, TransformerMixin"
   ]
  },
  {
   "cell_type": "code",
   "execution_count": 93,
   "metadata": {
    "scrolled": true
   },
   "outputs": [
    {
     "data": {
      "text/html": [
       "<div>\n",
       "<style scoped>\n",
       "    .dataframe tbody tr th:only-of-type {\n",
       "        vertical-align: middle;\n",
       "    }\n",
       "\n",
       "    .dataframe tbody tr th {\n",
       "        vertical-align: top;\n",
       "    }\n",
       "\n",
       "    .dataframe thead th {\n",
       "        text-align: right;\n",
       "    }\n",
       "</style>\n",
       "<table border=\"1\" class=\"dataframe\">\n",
       "  <thead>\n",
       "    <tr style=\"text-align: right;\">\n",
       "      <th></th>\n",
       "      <th>symboling</th>\n",
       "      <th>normalized-losses</th>\n",
       "      <th>make</th>\n",
       "      <th>fuel-type</th>\n",
       "      <th>aspiration</th>\n",
       "      <th>num-of-doors</th>\n",
       "      <th>body-style</th>\n",
       "      <th>drive-wheels</th>\n",
       "      <th>wheel-base</th>\n",
       "      <th>length</th>\n",
       "      <th>...</th>\n",
       "      <th>engine-size</th>\n",
       "      <th>fuel-system</th>\n",
       "      <th>bore</th>\n",
       "      <th>stroke</th>\n",
       "      <th>compression-ratio</th>\n",
       "      <th>horsepower</th>\n",
       "      <th>peak-rpm</th>\n",
       "      <th>city-mpg</th>\n",
       "      <th>highway-mpg</th>\n",
       "      <th>price</th>\n",
       "    </tr>\n",
       "  </thead>\n",
       "  <tbody>\n",
       "    <tr>\n",
       "      <th>0</th>\n",
       "      <td>3</td>\n",
       "      <td>NaN</td>\n",
       "      <td>others</td>\n",
       "      <td>gas</td>\n",
       "      <td>std</td>\n",
       "      <td>two</td>\n",
       "      <td>convertible</td>\n",
       "      <td>rwd</td>\n",
       "      <td>88.6</td>\n",
       "      <td>168.8</td>\n",
       "      <td>...</td>\n",
       "      <td>130</td>\n",
       "      <td>mpfi</td>\n",
       "      <td>3.47</td>\n",
       "      <td>2.68</td>\n",
       "      <td>9.0</td>\n",
       "      <td>111.0</td>\n",
       "      <td>5000.0</td>\n",
       "      <td>21</td>\n",
       "      <td>27</td>\n",
       "      <td>13495</td>\n",
       "    </tr>\n",
       "    <tr>\n",
       "      <th>1</th>\n",
       "      <td>3</td>\n",
       "      <td>NaN</td>\n",
       "      <td>others</td>\n",
       "      <td>gas</td>\n",
       "      <td>std</td>\n",
       "      <td>two</td>\n",
       "      <td>convertible</td>\n",
       "      <td>rwd</td>\n",
       "      <td>88.6</td>\n",
       "      <td>168.8</td>\n",
       "      <td>...</td>\n",
       "      <td>130</td>\n",
       "      <td>mpfi</td>\n",
       "      <td>3.47</td>\n",
       "      <td>2.68</td>\n",
       "      <td>9.0</td>\n",
       "      <td>111.0</td>\n",
       "      <td>5000.0</td>\n",
       "      <td>21</td>\n",
       "      <td>27</td>\n",
       "      <td>16500</td>\n",
       "    </tr>\n",
       "    <tr>\n",
       "      <th>2</th>\n",
       "      <td>1</td>\n",
       "      <td>NaN</td>\n",
       "      <td>others</td>\n",
       "      <td>gas</td>\n",
       "      <td>std</td>\n",
       "      <td>two</td>\n",
       "      <td>hatchback</td>\n",
       "      <td>rwd</td>\n",
       "      <td>94.5</td>\n",
       "      <td>171.2</td>\n",
       "      <td>...</td>\n",
       "      <td>152</td>\n",
       "      <td>mpfi</td>\n",
       "      <td>2.68</td>\n",
       "      <td>3.47</td>\n",
       "      <td>9.0</td>\n",
       "      <td>154.0</td>\n",
       "      <td>5000.0</td>\n",
       "      <td>19</td>\n",
       "      <td>26</td>\n",
       "      <td>16500</td>\n",
       "    </tr>\n",
       "    <tr>\n",
       "      <th>3</th>\n",
       "      <td>2</td>\n",
       "      <td>164.0</td>\n",
       "      <td>audi</td>\n",
       "      <td>gas</td>\n",
       "      <td>std</td>\n",
       "      <td>four</td>\n",
       "      <td>sedan</td>\n",
       "      <td>fwd</td>\n",
       "      <td>99.8</td>\n",
       "      <td>176.6</td>\n",
       "      <td>...</td>\n",
       "      <td>109</td>\n",
       "      <td>mpfi</td>\n",
       "      <td>3.19</td>\n",
       "      <td>3.40</td>\n",
       "      <td>10.0</td>\n",
       "      <td>102.0</td>\n",
       "      <td>5500.0</td>\n",
       "      <td>24</td>\n",
       "      <td>30</td>\n",
       "      <td>13950</td>\n",
       "    </tr>\n",
       "    <tr>\n",
       "      <th>4</th>\n",
       "      <td>2</td>\n",
       "      <td>164.0</td>\n",
       "      <td>audi</td>\n",
       "      <td>gas</td>\n",
       "      <td>std</td>\n",
       "      <td>four</td>\n",
       "      <td>sedan</td>\n",
       "      <td>4wd</td>\n",
       "      <td>99.4</td>\n",
       "      <td>176.6</td>\n",
       "      <td>...</td>\n",
       "      <td>136</td>\n",
       "      <td>mpfi</td>\n",
       "      <td>3.19</td>\n",
       "      <td>3.40</td>\n",
       "      <td>8.0</td>\n",
       "      <td>115.0</td>\n",
       "      <td>5500.0</td>\n",
       "      <td>18</td>\n",
       "      <td>22</td>\n",
       "      <td>17450</td>\n",
       "    </tr>\n",
       "  </tbody>\n",
       "</table>\n",
       "<p>5 rows × 25 columns</p>\n",
       "</div>"
      ],
      "text/plain": [
       "   symboling  normalized-losses    make fuel-type aspiration num-of-doors  \\\n",
       "0          3                NaN  others       gas        std          two   \n",
       "1          3                NaN  others       gas        std          two   \n",
       "2          1                NaN  others       gas        std          two   \n",
       "3          2              164.0    audi       gas        std         four   \n",
       "4          2              164.0    audi       gas        std         four   \n",
       "\n",
       "    body-style drive-wheels  wheel-base  length  ...  engine-size  \\\n",
       "0  convertible          rwd        88.6   168.8  ...          130   \n",
       "1  convertible          rwd        88.6   168.8  ...          130   \n",
       "2    hatchback          rwd        94.5   171.2  ...          152   \n",
       "3        sedan          fwd        99.8   176.6  ...          109   \n",
       "4        sedan          4wd        99.4   176.6  ...          136   \n",
       "\n",
       "   fuel-system  bore stroke compression-ratio  horsepower peak-rpm  city-mpg  \\\n",
       "0         mpfi  3.47   2.68               9.0       111.0   5000.0        21   \n",
       "1         mpfi  3.47   2.68               9.0       111.0   5000.0        21   \n",
       "2         mpfi  2.68   3.47               9.0       154.0   5000.0        19   \n",
       "3         mpfi  3.19   3.40              10.0       102.0   5500.0        24   \n",
       "4         mpfi  3.19   3.40               8.0       115.0   5500.0        18   \n",
       "\n",
       "   highway-mpg  price  \n",
       "0           27  13495  \n",
       "1           27  16500  \n",
       "2           26  16500  \n",
       "3           30  13950  \n",
       "4           22  17450  \n",
       "\n",
       "[5 rows x 25 columns]"
      ]
     },
     "execution_count": 93,
     "metadata": {},
     "output_type": "execute_result"
    }
   ],
   "source": [
    "automobile = pd.read_csv(\"automobile_pre_processados.csv\")\n",
    "automobile.head()"
   ]
  },
  {
   "cell_type": "code",
   "execution_count": 94,
   "metadata": {},
   "outputs": [],
   "source": [
    "automobile[\"make\"] = automobile[\"make\"].astype('category')\n",
    "automobile[\"fuel-type\"] = automobile[\"fuel-type\"].astype('category')\n",
    "automobile[\"aspiration\"] = automobile[\"aspiration\"].astype('category')\n",
    "automobile[\"num-of-doors\"] = automobile[\"num-of-doors\"].astype('category')\n",
    "automobile[\"body-style\"] = automobile[\"body-style\"].astype('category')\n",
    "automobile[\"drive-wheels\"] = automobile[\"drive-wheels\"].astype('category')\n",
    "automobile[\"engine-type\"] = automobile[\"engine-type\"].astype('category')\n",
    "automobile[\"num-of-cylinders\"] = automobile[\"num-of-cylinders\"].astype('category')\n",
    "automobile[\"fuel-system\"] = automobile[\"fuel-system\"].astype('category')"
   ]
  },
  {
   "cell_type": "code",
   "execution_count": 95,
   "metadata": {},
   "outputs": [],
   "source": [
    "automobile[\"symboling\"] = automobile[\"symboling\"].astype('float64')\n",
    "automobile[\"price\"] = automobile[\"price\"].astype('float64')\n",
    "automobile[\"bore\"] = automobile[\"bore\"].astype('float64')\n",
    "automobile[\"stroke\"] = automobile[\"stroke\"].astype('float64')\n",
    "automobile[\"horsepower\"] = automobile[\"horsepower\"].astype('float64')\n",
    "automobile[\"peak-rpm\"] = automobile[\"peak-rpm\"].astype('float64')\n",
    "automobile[\"price\"] = automobile[\"price\"].astype('float64')"
   ]
  },
  {
   "cell_type": "code",
   "execution_count": 96,
   "metadata": {},
   "outputs": [
    {
     "name": "stdout",
     "output_type": "stream",
     "text": [
      "<class 'pandas.core.frame.DataFrame'>\n",
      "RangeIndex: 201 entries, 0 to 200\n",
      "Data columns (total 25 columns):\n",
      " #   Column             Non-Null Count  Dtype   \n",
      "---  ------             --------------  -----   \n",
      " 0   symboling          201 non-null    float64 \n",
      " 1   normalized-losses  164 non-null    float64 \n",
      " 2   make               201 non-null    category\n",
      " 3   fuel-type          201 non-null    category\n",
      " 4   aspiration         201 non-null    category\n",
      " 5   num-of-doors       201 non-null    category\n",
      " 6   body-style         201 non-null    category\n",
      " 7   drive-wheels       201 non-null    category\n",
      " 8   wheel-base         201 non-null    float64 \n",
      " 9   length             201 non-null    float64 \n",
      " 10  width              201 non-null    float64 \n",
      " 11  height             201 non-null    float64 \n",
      " 12  curb-weight        201 non-null    int64   \n",
      " 13  engine-type        201 non-null    category\n",
      " 14  num-of-cylinders   201 non-null    category\n",
      " 15  engine-size        201 non-null    int64   \n",
      " 16  fuel-system        201 non-null    category\n",
      " 17  bore               197 non-null    float64 \n",
      " 18  stroke             197 non-null    float64 \n",
      " 19  compression-ratio  201 non-null    float64 \n",
      " 20  horsepower         199 non-null    float64 \n",
      " 21  peak-rpm           199 non-null    float64 \n",
      " 22  city-mpg           201 non-null    int64   \n",
      " 23  highway-mpg        201 non-null    int64   \n",
      " 24  price              201 non-null    float64 \n",
      "dtypes: category(9), float64(12), int64(4)\n",
      "memory usage: 28.9 KB\n"
     ]
    }
   ],
   "source": [
    "automobile.info()"
   ]
  },
  {
   "cell_type": "code",
   "execution_count": 97,
   "metadata": {},
   "outputs": [],
   "source": [
    "numerical_features = [\"symboling\", \"normalized-losses\", \"wheel-base\", \"length\", \"width\", \"height\", \"curb-weight\", \"engine-size\", \"bore\", \"stroke\", \"compression-ratio\", \"horsepower\", \"peak-rpm\", \"city-mpg\", \"highway-mpg\"]\n",
    "categorical_features = [\"make\", \"fuel-type\", \"aspiration\", \"num-of-doors\", \"body-style\", \"drive-wheels\", \"engine-type\", \"num-of-cylinders\", \"fuel-system\"]"
   ]
  },
  {
   "cell_type": "code",
   "execution_count": 98,
   "metadata": {},
   "outputs": [],
   "source": [
    "class GetDummies(BaseEstimator, TransformerMixin):\n",
    "    def __init__(self):\n",
    "        print(\"init\")\n",
    "        \n",
    "    def fit(self, X, y = None):\n",
    "        return self\n",
    "    \n",
    "    def transform(self, X, y = None):\n",
    "        make = pd.get_dummies(X[\"make\"], prefix=\"make_\")\n",
    "        fuel_type = pd.get_dummies(X[\"fuel-type\"], prefix=\"fuel_type_\")\n",
    "        aspiration = pd.get_dummies(X[\"aspiration\"], prefix=\"aspiration_\")\n",
    "        num_of_doors = pd.get_dummies(X[\"num-of-doors\"], prefix=\"num_of_doors_\")\n",
    "        body_style = pd.get_dummies(X[\"body-style\"], prefix=\"body_style_\")\n",
    "        drive_wheels = pd.get_dummies(X[\"drive-wheels\"], prefix=\"drive_wheels_\")\n",
    "        engine_type = pd.get_dummies(X[\"engine-type\"], prefix=\"engine_type_\")\n",
    "        num_of_cylinders = pd.get_dummies(X[\"num-of-cylinders\"], prefix=\"num_of_cylinders_\")\n",
    "        fuel_system = pd.get_dummies(X[\"fuel-system\"], prefix=\"fuel_system_\")\n",
    "        \n",
    "        X = X.drop([\"make\", \"fuel-type\", \"aspiration\", \"num-of-doors\", \"body-style\", \"drive-wheels\", \"engine-type\", \"num-of-cylinders\", \"fuel-system\"], axis=1)\n",
    "        X = pd.concat([X, make, fuel_type, aspiration, num_of_doors, body_style, drive_wheels, engine_type, num_of_cylinders, fuel_system], axis=1)\n",
    "        self.X = X\n",
    "        return X\n",
    "    \n",
    "    def get_feature_names(self):\n",
    "        return self.X.columns"
   ]
  },
  {
   "cell_type": "code",
   "execution_count": 99,
   "metadata": {},
   "outputs": [
    {
     "name": "stdout",
     "output_type": "stream",
     "text": [
      "init\n"
     ]
    }
   ],
   "source": [
    "class TypeSelector(BaseEstimator, TransformerMixin):\n",
    "    def __init__(self, dtype):\n",
    "        self.dtype = dtype\n",
    "    def fit(self, X, y=None):\n",
    "        return self\n",
    "    def transform(self, X):        \n",
    "        assert isinstance(X, pd.DataFrame)\n",
    "        return X.select_dtypes(include=[self.dtype])\n",
    "    \n",
    "class Debug(BaseEstimator, TransformerMixin):\n",
    "    def __init__(self, dtype):\n",
    "        self.dtype = dtype\n",
    "    def fit(self, X, y=None):\n",
    "        return self\n",
    "    def transform(self, X):        \n",
    "        print(X[:,10])\n",
    "\n",
    "modelo = Pipeline([\n",
    "  ('features', FeatureUnion(\n",
    "      transformer_list=[\n",
    "          ('numericals', Pipeline([\n",
    "              ('selector', TypeSelector(np.number)),\n",
    "              ('imputer', SimpleImputer(strategy='mean')),            \n",
    "              ('scaler', MinMaxScaler())\n",
    "          ])),\n",
    "          ('categoricals', Pipeline([\n",
    "              ('selector', TypeSelector('category')),\n",
    "              ('get_dummies', GetDummies())              \n",
    "          ]))\n",
    "      ]\n",
    "  )),\n",
    "  ('model', GridSearchCV(ElasticNet(),\n",
    "                param_grid={'alpha': np.arange(0.1, 1, 0.1),\n",
    "                            'l1_ratio': np.arange(0.2, 1, 0.05)},\n",
    "                cv=2,\n",
    "                refit=True))\n",
    "])"
   ]
  },
  {
   "cell_type": "code",
   "execution_count": 100,
   "metadata": {},
   "outputs": [
    {
     "data": {
      "text/plain": [
       "Pipeline(steps=[('features',\n",
       "                 FeatureUnion(transformer_list=[('numericals',\n",
       "                                                 Pipeline(steps=[('selector',\n",
       "                                                                  TypeSelector(dtype=<class 'numpy.number'>)),\n",
       "                                                                 ('imputer',\n",
       "                                                                  SimpleImputer()),\n",
       "                                                                 ('scaler',\n",
       "                                                                  MinMaxScaler())])),\n",
       "                                                ('categoricals',\n",
       "                                                 Pipeline(steps=[('selector',\n",
       "                                                                  TypeSelector(dtype='category')),\n",
       "                                                                 ('get_dummies',\n",
       "                                                                  GetDummies())]))])),\n",
       "                ('model',\n",
       "                 GridSearchCV(cv=2, estimator=ElasticNet(),\n",
       "                              param_grid={'alpha': array([0.1, 0.2, 0.3, 0.4, 0.5, 0.6, 0.7, 0.8, 0.9]),\n",
       "                                          'l1_ratio': array([0.2 , 0.25, 0.3 , 0.35, 0.4 , 0.45, 0.5 , 0.55, 0.6 , 0.65, 0.7 ,\n",
       "       0.75, 0.8 , 0.85, 0.9 , 0.95])}))])"
      ]
     },
     "execution_count": 100,
     "metadata": {},
     "output_type": "execute_result"
    }
   ],
   "source": [
    "X = automobile.drop(\"price\", axis=1)\n",
    "Y = automobile[\"price\"]\n",
    "\n",
    "x_train, x_test, y_train, y_test = train_test_split(X, Y, test_size=0.3, random_state = 3)\n",
    "modelo.fit(x_train, y_train)"
   ]
  },
  {
   "cell_type": "code",
   "execution_count": 101,
   "metadata": {},
   "outputs": [],
   "source": [
    "y_pred = modelo.predict(x_test)\n",
    "y_pred_train = modelo.predict(x_train)"
   ]
  },
  {
   "cell_type": "code",
   "execution_count": 102,
   "metadata": {},
   "outputs": [
    {
     "data": {
      "text/plain": [
       "0.8579829229091722"
      ]
     },
     "execution_count": 102,
     "metadata": {},
     "output_type": "execute_result"
    }
   ],
   "source": [
    "r2_score(y_test, y_pred)\n",
    "#r2_score(y_train, y_pred_train)"
   ]
  },
  {
   "cell_type": "code",
   "execution_count": 103,
   "metadata": {},
   "outputs": [
    {
     "data": {
      "text/plain": [
       "{'alpha': 0.30000000000000004, 'l1_ratio': 0.9499999999999997}"
      ]
     },
     "execution_count": 103,
     "metadata": {},
     "output_type": "execute_result"
    }
   ],
   "source": [
    "modelo.named_steps['model'].best_params_"
   ]
  },
  {
   "cell_type": "code",
   "execution_count": 104,
   "metadata": {},
   "outputs": [],
   "source": [
    "features_names = numerical_features\n",
    "categorical_features_names = modelo['features'].transformer_list[1][1]['get_dummies'].get_feature_names()\n",
    "\n",
    "for i in range(0, len(categorical_features_names)):\n",
    "    features_names.append(categorical_features_names.values[i])"
   ]
  },
  {
   "cell_type": "code",
   "execution_count": 105,
   "metadata": {},
   "outputs": [
    {
     "data": {
      "text/plain": [
       "60"
      ]
     },
     "execution_count": 105,
     "metadata": {},
     "output_type": "execute_result"
    }
   ],
   "source": [
    "len(features_names)"
   ]
  },
  {
   "cell_type": "code",
   "execution_count": 106,
   "metadata": {},
   "outputs": [
    {
     "name": "stdout",
     "output_type": "stream",
     "text": [
      "init\n"
     ]
    },
    {
     "data": {
      "text/plain": [
       "Pipeline(steps=[('features',\n",
       "                 FeatureUnion(transformer_list=[('numericals',\n",
       "                                                 Pipeline(steps=[('selector',\n",
       "                                                                  TypeSelector(dtype=<class 'numpy.number'>)),\n",
       "                                                                 ('imputer',\n",
       "                                                                  SimpleImputer()),\n",
       "                                                                 ('scaler',\n",
       "                                                                  MinMaxScaler())])),\n",
       "                                                ('categoricals',\n",
       "                                                 Pipeline(steps=[('selector',\n",
       "                                                                  TypeSelector(dtype='category')),\n",
       "                                                                 ('get_dummies',\n",
       "                                                                  GetDummies())]))])),\n",
       "                ('model', ElasticNet(alpha=0.3, l1_ratio=0.94999))])"
      ]
     },
     "execution_count": 106,
     "metadata": {},
     "output_type": "execute_result"
    }
   ],
   "source": [
    "modelo_otimizado = Pipeline([\n",
    "  ('features', FeatureUnion(\n",
    "      transformer_list=[\n",
    "          ('numericals', Pipeline([\n",
    "              ('selector', TypeSelector(np.number)),\n",
    "              ('imputer', SimpleImputer(strategy='mean')),            \n",
    "              ('scaler', MinMaxScaler())\n",
    "          ])),\n",
    "          ('categoricals', Pipeline([\n",
    "              ('selector', TypeSelector('category')),\n",
    "              ('get_dummies', GetDummies())              \n",
    "          ]))\n",
    "      ]\n",
    "  )),\n",
    "  ('model', ElasticNet(alpha=0.3, l1_ratio=0.94999))\n",
    "])\n",
    "modelo_otimizado.fit(x_train, y_train)"
   ]
  },
  {
   "cell_type": "code",
   "execution_count": 107,
   "metadata": {},
   "outputs": [],
   "source": [
    "y_pred_otimizado = modelo_otimizado.predict(x_test)\n",
    "#y_pred_train = modelo_otimizado.predict(x_train)"
   ]
  },
  {
   "cell_type": "code",
   "execution_count": 108,
   "metadata": {},
   "outputs": [
    {
     "data": {
      "text/plain": [
       "0.8579774649321757"
      ]
     },
     "execution_count": 108,
     "metadata": {},
     "output_type": "execute_result"
    }
   ],
   "source": [
    "r2_score(y_test, y_pred_otimizado)\n",
    "#r2_score(y_train, y_pred_train)"
   ]
  },
  {
   "cell_type": "code",
   "execution_count": 109,
   "metadata": {},
   "outputs": [],
   "source": [
    "elastic_net = modelo_otimizado.named_steps['model']\n",
    "coef = pd.Series(elastic_net.coef_, features_names)\n",
    "coef.sort_values(inplace=True)"
   ]
  },
  {
   "cell_type": "code",
   "execution_count": 110,
   "metadata": {},
   "outputs": [
    {
     "data": {
      "text/plain": [
       "num_of_cylinders__up to four       -2644.617255\n",
       "make__subaru                       -2317.696683\n",
       "body_style__wagon                  -1966.576703\n",
       "make__toyota                       -1684.725723\n",
       "body_style__hatchback              -1392.913372\n",
       "drive_wheels__fwd                  -1275.030220\n",
       "make__peugot                       -1106.533714\n",
       "engine_type__l                     -1106.252582\n",
       "engine_type__ohcv                  -1106.229707\n",
       "make__volvo                        -1033.876682\n",
       "make__nissan                       -1005.315903\n",
       "highway-mpg                         -897.568698\n",
       "city-mpg                            -840.511601\n",
       "body_style__sedan                   -827.352360\n",
       "fuel_system__others                 -804.376641\n",
       "engine_type__dohc                   -700.299244\n",
       "stroke                              -586.393472\n",
       "num_of_cylinders__five              -565.615044\n",
       "make__mitsubishi                    -528.245144\n",
       "make__volkswagen                    -439.562770\n",
       "normalized-losses                   -437.982304\n",
       "make__dodge                         -378.685513\n",
       "aspiration__std                     -374.608859\n",
       "make__plymouth                      -336.533395\n",
       "fuel_type__gas                      -284.039301\n",
       "num_of_doors__two                   -249.757267\n",
       "compression-ratio                   -178.993398\n",
       "fuel_system__spdi                   -173.959901\n",
       "drive_wheels__4wd                   -161.736121\n",
       "height                                13.874979\n",
       "fuel_system__2bbl                     39.645850\n",
       "make__saab                            56.308451\n",
       "make__mazda                           63.122349\n",
       "num_of_doors__four                   249.765477\n",
       "fuel_type__diesel                    283.983083\n",
       "fuel_system__idi                     284.067103\n",
       "fuel_system__mpfi                    292.926651\n",
       "fuel_system__1bbl                    323.516287\n",
       "make__honda                          323.678137\n",
       "aspiration__turbo                    374.546629\n",
       "peak-rpm                             641.400023\n",
       "engine_type__ohc                     728.129616\n",
       "engine_type__rotor                   806.035905\n",
       "make__others                         944.459012\n",
       "length                              1080.721636\n",
       "symboling                           1106.427328\n",
       "make__audi                          1172.983163\n",
       "engine_type__ohcf                   1378.590539\n",
       "body_style__convertible             1418.623546\n",
       "drive_wheels__rwd                   1455.724314\n",
       "bore                                1846.893935\n",
       "make__bmw                           1898.668127\n",
       "wheel-base                          2646.950955\n",
       "body_style__hardtop                 2787.296688\n",
       "curb-weight                         2992.587671\n",
       "num_of_cylinders__more than five    3229.262744\n",
       "horsepower                          3278.679006\n",
       "engine-size                         4035.904784\n",
       "make__mercedes-benz                 4409.954695\n",
       "width                               4509.155801\n",
       "dtype: float64"
      ]
     },
     "execution_count": 110,
     "metadata": {},
     "output_type": "execute_result"
    }
   ],
   "source": [
    "coef"
   ]
  },
  {
   "cell_type": "code",
   "execution_count": 111,
   "metadata": {},
   "outputs": [],
   "source": [
    "coef_round = coef.round(decimals=0)"
   ]
  },
  {
   "cell_type": "code",
   "execution_count": 112,
   "metadata": {},
   "outputs": [
    {
     "data": {
      "text/plain": [
       "engine_type__l      -1106.0\n",
       "engine_type__ohcv   -1106.0\n",
       "fuel_type__diesel     284.0\n",
       "fuel_system__idi      284.0\n",
       "fuel_system__1bbl     324.0\n",
       "make__honda           324.0\n",
       "dtype: float64"
      ]
     },
     "execution_count": 112,
     "metadata": {},
     "output_type": "execute_result"
    }
   ],
   "source": [
    "mask_duplicated = coef_round.duplicated(keep=False)\n",
    "duplicated = coef_round[mask_duplicated]\n",
    "duplicated"
   ]
  },
  {
   "cell_type": "code",
   "execution_count": null,
   "metadata": {},
   "outputs": [],
   "source": []
  }
 ],
 "metadata": {
  "kernelspec": {
   "display_name": "Python 3",
   "language": "python",
   "name": "python3"
  },
  "language_info": {
   "codemirror_mode": {
    "name": "ipython",
    "version": 3
   },
   "file_extension": ".py",
   "mimetype": "text/x-python",
   "name": "python",
   "nbconvert_exporter": "python",
   "pygments_lexer": "ipython3",
   "version": "3.8.5"
  }
 },
 "nbformat": 4,
 "nbformat_minor": 4
}
