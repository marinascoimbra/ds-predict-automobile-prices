{
 "cells": [
  {
   "cell_type": "code",
   "execution_count": 1,
   "metadata": {},
   "outputs": [],
   "source": [
    "import pandas as pd\n",
    "import numpy as np\n",
    "import plotly.express as px\n",
    "import seaborn as sns\n",
    "import matplotlib.pyplot as plt\n",
    "import statsmodels.api as sm\n",
    "\n",
    "from sklearn import metrics\n",
    "from sklearn.impute import SimpleImputer\n",
    "from sklearn.preprocessing import MinMaxScaler\n",
    "from sklearn.preprocessing import StandardScaler\n",
    "from sklearn.linear_model import Lasso\n",
    "from sklearn.pipeline import Pipeline, FeatureUnion\n",
    "from sklearn.model_selection import train_test_split\n",
    "from sklearn.metrics import mean_squared_error, r2_score\n",
    "from sklearn.base import BaseEstimator, TransformerMixin"
   ]
  },
  {
   "cell_type": "code",
   "execution_count": 2,
   "metadata": {
    "scrolled": true
   },
   "outputs": [
    {
     "data": {
      "text/html": [
       "<div>\n",
       "<style scoped>\n",
       "    .dataframe tbody tr th:only-of-type {\n",
       "        vertical-align: middle;\n",
       "    }\n",
       "\n",
       "    .dataframe tbody tr th {\n",
       "        vertical-align: top;\n",
       "    }\n",
       "\n",
       "    .dataframe thead th {\n",
       "        text-align: right;\n",
       "    }\n",
       "</style>\n",
       "<table border=\"1\" class=\"dataframe\">\n",
       "  <thead>\n",
       "    <tr style=\"text-align: right;\">\n",
       "      <th></th>\n",
       "      <th>symboling</th>\n",
       "      <th>normalized-losses</th>\n",
       "      <th>make</th>\n",
       "      <th>fuel-type</th>\n",
       "      <th>aspiration</th>\n",
       "      <th>num-of-doors</th>\n",
       "      <th>body-style</th>\n",
       "      <th>drive-wheels</th>\n",
       "      <th>wheel-base</th>\n",
       "      <th>length</th>\n",
       "      <th>...</th>\n",
       "      <th>engine-size</th>\n",
       "      <th>fuel-system</th>\n",
       "      <th>bore</th>\n",
       "      <th>stroke</th>\n",
       "      <th>compression-ratio</th>\n",
       "      <th>horsepower</th>\n",
       "      <th>peak-rpm</th>\n",
       "      <th>city-mpg</th>\n",
       "      <th>highway-mpg</th>\n",
       "      <th>price</th>\n",
       "    </tr>\n",
       "  </thead>\n",
       "  <tbody>\n",
       "    <tr>\n",
       "      <th>0</th>\n",
       "      <td>3</td>\n",
       "      <td>NaN</td>\n",
       "      <td>others</td>\n",
       "      <td>gas</td>\n",
       "      <td>std</td>\n",
       "      <td>two</td>\n",
       "      <td>convertible</td>\n",
       "      <td>rwd</td>\n",
       "      <td>88.6</td>\n",
       "      <td>168.8</td>\n",
       "      <td>...</td>\n",
       "      <td>130</td>\n",
       "      <td>mpfi</td>\n",
       "      <td>3.47</td>\n",
       "      <td>2.68</td>\n",
       "      <td>9.0</td>\n",
       "      <td>111.0</td>\n",
       "      <td>5000.0</td>\n",
       "      <td>21</td>\n",
       "      <td>27</td>\n",
       "      <td>13495</td>\n",
       "    </tr>\n",
       "    <tr>\n",
       "      <th>1</th>\n",
       "      <td>3</td>\n",
       "      <td>NaN</td>\n",
       "      <td>others</td>\n",
       "      <td>gas</td>\n",
       "      <td>std</td>\n",
       "      <td>two</td>\n",
       "      <td>convertible</td>\n",
       "      <td>rwd</td>\n",
       "      <td>88.6</td>\n",
       "      <td>168.8</td>\n",
       "      <td>...</td>\n",
       "      <td>130</td>\n",
       "      <td>mpfi</td>\n",
       "      <td>3.47</td>\n",
       "      <td>2.68</td>\n",
       "      <td>9.0</td>\n",
       "      <td>111.0</td>\n",
       "      <td>5000.0</td>\n",
       "      <td>21</td>\n",
       "      <td>27</td>\n",
       "      <td>16500</td>\n",
       "    </tr>\n",
       "    <tr>\n",
       "      <th>2</th>\n",
       "      <td>1</td>\n",
       "      <td>NaN</td>\n",
       "      <td>others</td>\n",
       "      <td>gas</td>\n",
       "      <td>std</td>\n",
       "      <td>two</td>\n",
       "      <td>hatchback</td>\n",
       "      <td>rwd</td>\n",
       "      <td>94.5</td>\n",
       "      <td>171.2</td>\n",
       "      <td>...</td>\n",
       "      <td>152</td>\n",
       "      <td>mpfi</td>\n",
       "      <td>2.68</td>\n",
       "      <td>3.47</td>\n",
       "      <td>9.0</td>\n",
       "      <td>154.0</td>\n",
       "      <td>5000.0</td>\n",
       "      <td>19</td>\n",
       "      <td>26</td>\n",
       "      <td>16500</td>\n",
       "    </tr>\n",
       "    <tr>\n",
       "      <th>3</th>\n",
       "      <td>2</td>\n",
       "      <td>164.0</td>\n",
       "      <td>audi</td>\n",
       "      <td>gas</td>\n",
       "      <td>std</td>\n",
       "      <td>four</td>\n",
       "      <td>sedan</td>\n",
       "      <td>fwd</td>\n",
       "      <td>99.8</td>\n",
       "      <td>176.6</td>\n",
       "      <td>...</td>\n",
       "      <td>109</td>\n",
       "      <td>mpfi</td>\n",
       "      <td>3.19</td>\n",
       "      <td>3.40</td>\n",
       "      <td>10.0</td>\n",
       "      <td>102.0</td>\n",
       "      <td>5500.0</td>\n",
       "      <td>24</td>\n",
       "      <td>30</td>\n",
       "      <td>13950</td>\n",
       "    </tr>\n",
       "    <tr>\n",
       "      <th>4</th>\n",
       "      <td>2</td>\n",
       "      <td>164.0</td>\n",
       "      <td>audi</td>\n",
       "      <td>gas</td>\n",
       "      <td>std</td>\n",
       "      <td>four</td>\n",
       "      <td>sedan</td>\n",
       "      <td>4wd</td>\n",
       "      <td>99.4</td>\n",
       "      <td>176.6</td>\n",
       "      <td>...</td>\n",
       "      <td>136</td>\n",
       "      <td>mpfi</td>\n",
       "      <td>3.19</td>\n",
       "      <td>3.40</td>\n",
       "      <td>8.0</td>\n",
       "      <td>115.0</td>\n",
       "      <td>5500.0</td>\n",
       "      <td>18</td>\n",
       "      <td>22</td>\n",
       "      <td>17450</td>\n",
       "    </tr>\n",
       "  </tbody>\n",
       "</table>\n",
       "<p>5 rows × 25 columns</p>\n",
       "</div>"
      ],
      "text/plain": [
       "   symboling  normalized-losses    make fuel-type aspiration num-of-doors  \\\n",
       "0          3                NaN  others       gas        std          two   \n",
       "1          3                NaN  others       gas        std          two   \n",
       "2          1                NaN  others       gas        std          two   \n",
       "3          2              164.0    audi       gas        std         four   \n",
       "4          2              164.0    audi       gas        std         four   \n",
       "\n",
       "    body-style drive-wheels  wheel-base  length  ...  engine-size  \\\n",
       "0  convertible          rwd        88.6   168.8  ...          130   \n",
       "1  convertible          rwd        88.6   168.8  ...          130   \n",
       "2    hatchback          rwd        94.5   171.2  ...          152   \n",
       "3        sedan          fwd        99.8   176.6  ...          109   \n",
       "4        sedan          4wd        99.4   176.6  ...          136   \n",
       "\n",
       "   fuel-system  bore stroke compression-ratio  horsepower peak-rpm  city-mpg  \\\n",
       "0         mpfi  3.47   2.68               9.0       111.0   5000.0        21   \n",
       "1         mpfi  3.47   2.68               9.0       111.0   5000.0        21   \n",
       "2         mpfi  2.68   3.47               9.0       154.0   5000.0        19   \n",
       "3         mpfi  3.19   3.40              10.0       102.0   5500.0        24   \n",
       "4         mpfi  3.19   3.40               8.0       115.0   5500.0        18   \n",
       "\n",
       "   highway-mpg  price  \n",
       "0           27  13495  \n",
       "1           27  16500  \n",
       "2           26  16500  \n",
       "3           30  13950  \n",
       "4           22  17450  \n",
       "\n",
       "[5 rows x 25 columns]"
      ]
     },
     "execution_count": 2,
     "metadata": {},
     "output_type": "execute_result"
    }
   ],
   "source": [
    "automobile = pd.read_csv(\"automobile_pre_processados.csv\")\n",
    "automobile.head()"
   ]
  },
  {
   "cell_type": "code",
   "execution_count": 3,
   "metadata": {},
   "outputs": [],
   "source": [
    "automobile[\"make\"] = automobile[\"make\"].astype('category')\n",
    "automobile[\"fuel-type\"] = automobile[\"fuel-type\"].astype('category')\n",
    "automobile[\"aspiration\"] = automobile[\"aspiration\"].astype('category')\n",
    "automobile[\"num-of-doors\"] = automobile[\"num-of-doors\"].astype('category')\n",
    "automobile[\"body-style\"] = automobile[\"body-style\"].astype('category')\n",
    "automobile[\"drive-wheels\"] = automobile[\"drive-wheels\"].astype('category')\n",
    "automobile[\"engine-type\"] = automobile[\"engine-type\"].astype('category')\n",
    "automobile[\"num-of-cylinders\"] = automobile[\"num-of-cylinders\"].astype('category')\n",
    "automobile[\"fuel-system\"] = automobile[\"fuel-system\"].astype('category')"
   ]
  },
  {
   "cell_type": "code",
   "execution_count": 4,
   "metadata": {},
   "outputs": [],
   "source": [
    "automobile[\"symboling\"] = automobile[\"symboling\"].astype('float64')\n",
    "automobile[\"price\"] = automobile[\"price\"].astype('float64')\n",
    "automobile[\"bore\"] = automobile[\"bore\"].astype('float64')\n",
    "automobile[\"stroke\"] = automobile[\"stroke\"].astype('float64')\n",
    "automobile[\"horsepower\"] = automobile[\"horsepower\"].astype('float64')\n",
    "automobile[\"peak-rpm\"] = automobile[\"peak-rpm\"].astype('float64')\n",
    "automobile[\"price\"] = automobile[\"price\"].astype('float64')"
   ]
  },
  {
   "cell_type": "code",
   "execution_count": 5,
   "metadata": {},
   "outputs": [
    {
     "name": "stdout",
     "output_type": "stream",
     "text": [
      "<class 'pandas.core.frame.DataFrame'>\n",
      "RangeIndex: 201 entries, 0 to 200\n",
      "Data columns (total 25 columns):\n",
      " #   Column             Non-Null Count  Dtype   \n",
      "---  ------             --------------  -----   \n",
      " 0   symboling          201 non-null    float64 \n",
      " 1   normalized-losses  164 non-null    float64 \n",
      " 2   make               201 non-null    category\n",
      " 3   fuel-type          201 non-null    category\n",
      " 4   aspiration         201 non-null    category\n",
      " 5   num-of-doors       201 non-null    category\n",
      " 6   body-style         201 non-null    category\n",
      " 7   drive-wheels       201 non-null    category\n",
      " 8   wheel-base         201 non-null    float64 \n",
      " 9   length             201 non-null    float64 \n",
      " 10  width              201 non-null    float64 \n",
      " 11  height             201 non-null    float64 \n",
      " 12  curb-weight        201 non-null    int64   \n",
      " 13  engine-type        201 non-null    category\n",
      " 14  num-of-cylinders   201 non-null    category\n",
      " 15  engine-size        201 non-null    int64   \n",
      " 16  fuel-system        201 non-null    category\n",
      " 17  bore               197 non-null    float64 \n",
      " 18  stroke             197 non-null    float64 \n",
      " 19  compression-ratio  201 non-null    float64 \n",
      " 20  horsepower         199 non-null    float64 \n",
      " 21  peak-rpm           199 non-null    float64 \n",
      " 22  city-mpg           201 non-null    int64   \n",
      " 23  highway-mpg        201 non-null    int64   \n",
      " 24  price              201 non-null    float64 \n",
      "dtypes: category(9), float64(12), int64(4)\n",
      "memory usage: 28.9 KB\n"
     ]
    }
   ],
   "source": [
    "automobile.info()"
   ]
  },
  {
   "cell_type": "code",
   "execution_count": 13,
   "metadata": {},
   "outputs": [],
   "source": [
    "numerical_features = [\"symboling\", \"normalized-losses\", \"wheel-base\", \"length\", \"width\", \"height\", \"curb-weight\", \"engine-size\", \"bore\", \"stroke\", \"compression-ratio\", \"horsepower\", \"peak-rpm\", \"city-mpg\", \"highway-mpg\"]\n",
    "categorical_features = [\"make\", \"fuel-type\", \"aspiration\", \"num-of-doors\", \"body-style\", \"drive-wheels\", \"engine-type\", \"num-of-cylinders\", \"fuel-system\"]"
   ]
  },
  {
   "cell_type": "code",
   "execution_count": 15,
   "metadata": {},
   "outputs": [],
   "source": [
    "class GetDummies(BaseEstimator, TransformerMixin):\n",
    "    def __init__(self):\n",
    "        print(\"init\")\n",
    "        \n",
    "    def fit(self, X, y = None):\n",
    "        return self\n",
    "    \n",
    "    def transform(self, X, y = None):\n",
    "        make = pd.get_dummies(X[\"make\"], prefix=\"make_\")\n",
    "        fuel_type = pd.get_dummies(X[\"fuel-type\"], prefix=\"fuel_type_\")\n",
    "        aspiration = pd.get_dummies(X[\"aspiration\"], prefix=\"aspiration_\")\n",
    "        num_of_doors = pd.get_dummies(X[\"num-of-doors\"], prefix=\"num_of_doors_\")\n",
    "        body_style = pd.get_dummies(X[\"body-style\"], prefix=\"body_style_\")\n",
    "        drive_wheels = pd.get_dummies(X[\"drive-wheels\"], prefix=\"drive_wheels_\")\n",
    "        engine_type = pd.get_dummies(X[\"engine-type\"], prefix=\"engine_type_\")\n",
    "        num_of_cylinders = pd.get_dummies(X[\"num-of-cylinders\"], prefix=\"num_of_cylinders_\")\n",
    "        fuel_system = pd.get_dummies(X[\"fuel-system\"], prefix=\"fuel_system_\")\n",
    "        \n",
    "        X = X.drop([\"make\", \"fuel-type\", \"aspiration\", \"num-of-doors\", \"body-style\", \"drive-wheels\", \"engine-type\", \"num-of-cylinders\", \"fuel-system\"], axis=1)\n",
    "        X = pd.concat([X, make, fuel_type, aspiration, num_of_doors, body_style, drive_wheels, engine_type, num_of_cylinders, fuel_system], axis=1)\n",
    "        self.X = X\n",
    "        return X\n",
    "    \n",
    "    def get_feature_names(self):\n",
    "        return self.X.columns"
   ]
  },
  {
   "cell_type": "code",
   "execution_count": 16,
   "metadata": {},
   "outputs": [
    {
     "name": "stdout",
     "output_type": "stream",
     "text": [
      "init\n"
     ]
    }
   ],
   "source": [
    "class TypeSelector(BaseEstimator, TransformerMixin):\n",
    "    def __init__(self, dtype):\n",
    "        self.dtype = dtype\n",
    "    def fit(self, X, y=None):\n",
    "        return self\n",
    "    def transform(self, X):        \n",
    "        assert isinstance(X, pd.DataFrame)\n",
    "        return X.select_dtypes(include=[self.dtype])\n",
    "    def get_feature_names(self):\n",
    "        return X.columns.tolist()\n",
    "    \n",
    "class Debug(BaseEstimator, TransformerMixin):\n",
    "    def __init__(self, dtype):\n",
    "        self.dtype = dtype\n",
    "    def fit(self, X, y=None):\n",
    "        return self\n",
    "    def transform(self, X):        \n",
    "        print(X[:,10])\n",
    "\n",
    "modelo = Pipeline([\n",
    "  ('features', FeatureUnion(\n",
    "      transformer_list=[\n",
    "          ('numericals', Pipeline([\n",
    "              ('selector', TypeSelector(np.number)),\n",
    "              ('imputer', SimpleImputer(strategy='mean')),\n",
    "              ('scaler', MinMaxScaler())\n",
    "          ])),\n",
    "          ('categoricals', Pipeline([\n",
    "              ('selector', TypeSelector('category')),\n",
    "              ('get_dummies', GetDummies())              \n",
    "          ]))\n",
    "      ]\n",
    "  )),\n",
    "  ('model', Lasso())\n",
    "])"
   ]
  },
  {
   "cell_type": "code",
   "execution_count": 17,
   "metadata": {},
   "outputs": [
    {
     "data": {
      "text/plain": [
       "Pipeline(steps=[('features',\n",
       "                 FeatureUnion(transformer_list=[('numericals',\n",
       "                                                 Pipeline(steps=[('selector',\n",
       "                                                                  TypeSelector(dtype=<class 'numpy.number'>)),\n",
       "                                                                 ('imputer',\n",
       "                                                                  SimpleImputer()),\n",
       "                                                                 ('scaler',\n",
       "                                                                  MinMaxScaler())])),\n",
       "                                                ('categoricals',\n",
       "                                                 Pipeline(steps=[('selector',\n",
       "                                                                  TypeSelector(dtype='category')),\n",
       "                                                                 ('get_dummies',\n",
       "                                                                  GetDummies())]))])),\n",
       "                ('model', Lasso())])"
      ]
     },
     "execution_count": 17,
     "metadata": {},
     "output_type": "execute_result"
    }
   ],
   "source": [
    "X = automobile.drop(\"price\", axis=1)\n",
    "Y = automobile[\"price\"]\n",
    "\n",
    "x_train, x_test, y_train, y_test = train_test_split(X, Y, test_size=0.3, random_state = 3)\n",
    "modelo.fit(x_train, y_train)"
   ]
  },
  {
   "cell_type": "code",
   "execution_count": 18,
   "metadata": {},
   "outputs": [],
   "source": [
    "y_pred = modelo.predict(x_test)\n",
    "y_pred_train = modelo.predict(x_train)"
   ]
  },
  {
   "cell_type": "code",
   "execution_count": 19,
   "metadata": {},
   "outputs": [
    {
     "data": {
      "text/plain": [
       "0.8432048972662233"
      ]
     },
     "execution_count": 19,
     "metadata": {},
     "output_type": "execute_result"
    }
   ],
   "source": [
    "r2_score(y_test, y_pred)\n",
    "#r2_score(y_train, y_pred_train)"
   ]
  },
  {
   "cell_type": "code",
   "execution_count": 20,
   "metadata": {},
   "outputs": [],
   "source": [
    "features_names = numerical_features\n",
    "categorical_features_names = modelo['features'].transformer_list[1][1]['get_dummies'].get_feature_names()\n",
    "\n",
    "for i in range(0, len(categorical_features_names)):\n",
    "    features_names.append(categorical_features_names.values[i])"
   ]
  },
  {
   "cell_type": "code",
   "execution_count": 21,
   "metadata": {},
   "outputs": [
    {
     "data": {
      "text/plain": [
       "60"
      ]
     },
     "execution_count": 21,
     "metadata": {},
     "output_type": "execute_result"
    }
   ],
   "source": [
    "len(features_names)"
   ]
  },
  {
   "cell_type": "code",
   "execution_count": 22,
   "metadata": {},
   "outputs": [],
   "source": [
    "lasso = modelo.named_steps['model']\n",
    "coef = pd.Series(lasso.coef_, features_names)\n",
    "coef.sort_values(inplace=True)"
   ]
  },
  {
   "cell_type": "code",
   "execution_count": 23,
   "metadata": {},
   "outputs": [
    {
     "data": {
      "text/plain": [
       "bore                               -1.247275e+04\n",
       "make__subaru                       -1.223036e+04\n",
       "length                             -9.051215e+03\n",
       "stroke                             -8.498634e+03\n",
       "engine_type__ohcv                  -5.665722e+03\n",
       "engine_type__l                     -3.039555e+03\n",
       "city-mpg                           -3.011030e+03\n",
       "engine_type__dohc                  -2.249103e+03\n",
       "height                             -1.946189e+03\n",
       "make__mitsubishi                   -1.784091e+03\n",
       "make__dodge                        -1.744035e+03\n",
       "aspiration__std                    -1.400616e+03\n",
       "make__plymouth                     -1.352268e+03\n",
       "make__peugot                       -1.345171e+03\n",
       "fuel_system__others                -1.265676e+03\n",
       "fuel_system__spdi                  -8.833243e+02\n",
       "symboling                          -8.025856e+02\n",
       "drive_wheels__fwd                  -7.466790e+02\n",
       "body_style__hatchback              -6.508291e+02\n",
       "make__toyota                       -6.031663e+02\n",
       "make__volvo                        -5.223306e+02\n",
       "body_style__wagon                  -3.419997e+02\n",
       "num_of_cylinders__more than five   -1.279279e+02\n",
       "fuel_system__1bbl                  -9.151010e+01\n",
       "make__honda                        -1.821953e+01\n",
       "fuel_type__gas                     -2.546585e-11\n",
       "num_of_doors__two                  -2.314588e-12\n",
       "drive_wheels__4wd                   0.000000e+00\n",
       "body_style__sedan                   0.000000e+00\n",
       "normalized-losses                   0.000000e+00\n",
       "num_of_cylinders__five              0.000000e+00\n",
       "compression-ratio                   0.000000e+00\n",
       "aspiration__turbo                   7.605951e-11\n",
       "fuel_system__mpfi                   1.964822e+00\n",
       "fuel_type__diesel                   2.230243e+01\n",
       "engine_type__ohc                    3.894778e+01\n",
       "body_style__hardtop                 1.733765e+02\n",
       "num_of_doors__four                  3.656937e+02\n",
       "make__mazda                         4.570070e+02\n",
       "make__others                        4.879136e+02\n",
       "fuel_system__2bbl                   5.207366e+02\n",
       "highway-mpg                         5.283187e+02\n",
       "make__volkswagen                    5.602694e+02\n",
       "fuel_system__idi                    8.114838e+02\n",
       "drive_wheels__rwd                   1.114418e+03\n",
       "make__nissan                        1.202147e+03\n",
       "body_style__convertible             1.479130e+03\n",
       "horsepower                          1.610249e+03\n",
       "peak-rpm                            2.201602e+03\n",
       "make__saab                          2.964399e+03\n",
       "make__mercedes-benz                 3.555229e+03\n",
       "wheel-base                          4.057812e+03\n",
       "make__audi                          4.456545e+03\n",
       "num_of_cylinders__up to four        5.561188e+03\n",
       "make__bmw                           6.165756e+03\n",
       "engine_type__rotor                  7.103636e+03\n",
       "width                               9.320033e+03\n",
       "engine_type__ohcf                   1.216032e+04\n",
       "curb-weight                         1.230489e+04\n",
       "engine-size                         3.930961e+04\n",
       "dtype: float64"
      ]
     },
     "execution_count": 23,
     "metadata": {},
     "output_type": "execute_result"
    }
   ],
   "source": [
    "coef"
   ]
  },
  {
   "cell_type": "code",
   "execution_count": 27,
   "metadata": {},
   "outputs": [
    {
     "data": {
      "text/plain": [
       "drive_wheels__4wd         0.0\n",
       "body_style__sedan         0.0\n",
       "normalized-losses         0.0\n",
       "num_of_cylinders__five    0.0\n",
       "compression-ratio         0.0\n",
       "dtype: float64"
      ]
     },
     "execution_count": 27,
     "metadata": {},
     "output_type": "execute_result"
    }
   ],
   "source": [
    "mask_zero = coef.values == 0\n",
    "zero = coef[mask_zero]\n",
    "zero"
   ]
  }
 ],
 "metadata": {
  "kernelspec": {
   "display_name": "Python 3",
   "language": "python",
   "name": "python3"
  },
  "language_info": {
   "codemirror_mode": {
    "name": "ipython",
    "version": 3
   },
   "file_extension": ".py",
   "mimetype": "text/x-python",
   "name": "python",
   "nbconvert_exporter": "python",
   "pygments_lexer": "ipython3",
   "version": "3.8.5"
  }
 },
 "nbformat": 4,
 "nbformat_minor": 4
}
