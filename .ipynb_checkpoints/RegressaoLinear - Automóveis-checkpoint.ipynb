{
 "cells": [
  {
   "cell_type": "code",
   "execution_count": 227,
   "metadata": {},
   "outputs": [],
   "source": [
    "import pandas as pd\n",
    "import numpy as np\n",
    "import plotly.express as px\n",
    "import seaborn as sns\n",
    "import matplotlib.pyplot as plt\n",
    "import statsmodels.api as sm\n",
    "\n",
    "from sklearn import metrics\n",
    "from sklearn.impute import SimpleImputer\n",
    "from sklearn.preprocessing import MinMaxScaler\n",
    "from sklearn.preprocessing import StandardScaler\n",
    "from sklearn.linear_model import LinearRegression\n",
    "from sklearn.pipeline import Pipeline, FeatureUnion\n",
    "from sklearn.model_selection import train_test_split\n",
    "from sklearn.metrics import mean_squared_error, r2_score\n",
    "from sklearn.base import BaseEstimator, TransformerMixin"
   ]
  },
  {
   "cell_type": "code",
   "execution_count": 237,
   "metadata": {
    "scrolled": true
   },
   "outputs": [
    {
     "data": {
      "text/html": [
       "<div>\n",
       "<style scoped>\n",
       "    .dataframe tbody tr th:only-of-type {\n",
       "        vertical-align: middle;\n",
       "    }\n",
       "\n",
       "    .dataframe tbody tr th {\n",
       "        vertical-align: top;\n",
       "    }\n",
       "\n",
       "    .dataframe thead th {\n",
       "        text-align: right;\n",
       "    }\n",
       "</style>\n",
       "<table border=\"1\" class=\"dataframe\">\n",
       "  <thead>\n",
       "    <tr style=\"text-align: right;\">\n",
       "      <th></th>\n",
       "      <th>symboling</th>\n",
       "      <th>make</th>\n",
       "      <th>fuel-type</th>\n",
       "      <th>aspiration</th>\n",
       "      <th>num-of-doors</th>\n",
       "      <th>body-style</th>\n",
       "      <th>drive-wheels</th>\n",
       "      <th>engine-location</th>\n",
       "      <th>wheel-base</th>\n",
       "      <th>length</th>\n",
       "      <th>...</th>\n",
       "      <th>engine-size</th>\n",
       "      <th>fuel-system</th>\n",
       "      <th>bore</th>\n",
       "      <th>stroke</th>\n",
       "      <th>compression-ratio</th>\n",
       "      <th>horsepower</th>\n",
       "      <th>peak-rpm</th>\n",
       "      <th>city-mpg</th>\n",
       "      <th>highway-mpg</th>\n",
       "      <th>price</th>\n",
       "    </tr>\n",
       "  </thead>\n",
       "  <tbody>\n",
       "    <tr>\n",
       "      <th>0</th>\n",
       "      <td>3</td>\n",
       "      <td>alfa-romero</td>\n",
       "      <td>gas</td>\n",
       "      <td>std</td>\n",
       "      <td>two</td>\n",
       "      <td>convertible</td>\n",
       "      <td>rwd</td>\n",
       "      <td>front</td>\n",
       "      <td>88.6</td>\n",
       "      <td>168.8</td>\n",
       "      <td>...</td>\n",
       "      <td>130</td>\n",
       "      <td>mpfi</td>\n",
       "      <td>3.47</td>\n",
       "      <td>2.68</td>\n",
       "      <td>9.0</td>\n",
       "      <td>111</td>\n",
       "      <td>5000</td>\n",
       "      <td>21</td>\n",
       "      <td>27</td>\n",
       "      <td>13495</td>\n",
       "    </tr>\n",
       "    <tr>\n",
       "      <th>1</th>\n",
       "      <td>3</td>\n",
       "      <td>alfa-romero</td>\n",
       "      <td>gas</td>\n",
       "      <td>std</td>\n",
       "      <td>two</td>\n",
       "      <td>convertible</td>\n",
       "      <td>rwd</td>\n",
       "      <td>front</td>\n",
       "      <td>88.6</td>\n",
       "      <td>168.8</td>\n",
       "      <td>...</td>\n",
       "      <td>130</td>\n",
       "      <td>mpfi</td>\n",
       "      <td>3.47</td>\n",
       "      <td>2.68</td>\n",
       "      <td>9.0</td>\n",
       "      <td>111</td>\n",
       "      <td>5000</td>\n",
       "      <td>21</td>\n",
       "      <td>27</td>\n",
       "      <td>16500</td>\n",
       "    </tr>\n",
       "    <tr>\n",
       "      <th>2</th>\n",
       "      <td>1</td>\n",
       "      <td>alfa-romero</td>\n",
       "      <td>gas</td>\n",
       "      <td>std</td>\n",
       "      <td>two</td>\n",
       "      <td>hatchback</td>\n",
       "      <td>rwd</td>\n",
       "      <td>front</td>\n",
       "      <td>94.5</td>\n",
       "      <td>171.2</td>\n",
       "      <td>...</td>\n",
       "      <td>152</td>\n",
       "      <td>mpfi</td>\n",
       "      <td>2.68</td>\n",
       "      <td>3.47</td>\n",
       "      <td>9.0</td>\n",
       "      <td>154</td>\n",
       "      <td>5000</td>\n",
       "      <td>19</td>\n",
       "      <td>26</td>\n",
       "      <td>16500</td>\n",
       "    </tr>\n",
       "    <tr>\n",
       "      <th>3</th>\n",
       "      <td>2</td>\n",
       "      <td>audi</td>\n",
       "      <td>gas</td>\n",
       "      <td>std</td>\n",
       "      <td>four</td>\n",
       "      <td>sedan</td>\n",
       "      <td>fwd</td>\n",
       "      <td>front</td>\n",
       "      <td>99.8</td>\n",
       "      <td>176.6</td>\n",
       "      <td>...</td>\n",
       "      <td>109</td>\n",
       "      <td>mpfi</td>\n",
       "      <td>3.19</td>\n",
       "      <td>3.40</td>\n",
       "      <td>10.0</td>\n",
       "      <td>102</td>\n",
       "      <td>5500</td>\n",
       "      <td>24</td>\n",
       "      <td>30</td>\n",
       "      <td>13950</td>\n",
       "    </tr>\n",
       "    <tr>\n",
       "      <th>4</th>\n",
       "      <td>2</td>\n",
       "      <td>audi</td>\n",
       "      <td>gas</td>\n",
       "      <td>std</td>\n",
       "      <td>four</td>\n",
       "      <td>sedan</td>\n",
       "      <td>4wd</td>\n",
       "      <td>front</td>\n",
       "      <td>99.4</td>\n",
       "      <td>176.6</td>\n",
       "      <td>...</td>\n",
       "      <td>136</td>\n",
       "      <td>mpfi</td>\n",
       "      <td>3.19</td>\n",
       "      <td>3.40</td>\n",
       "      <td>8.0</td>\n",
       "      <td>115</td>\n",
       "      <td>5500</td>\n",
       "      <td>18</td>\n",
       "      <td>22</td>\n",
       "      <td>17450</td>\n",
       "    </tr>\n",
       "  </tbody>\n",
       "</table>\n",
       "<p>5 rows × 25 columns</p>\n",
       "</div>"
      ],
      "text/plain": [
       "   symboling         make fuel-type aspiration num-of-doors   body-style  \\\n",
       "0          3  alfa-romero       gas        std          two  convertible   \n",
       "1          3  alfa-romero       gas        std          two  convertible   \n",
       "2          1  alfa-romero       gas        std          two    hatchback   \n",
       "3          2         audi       gas        std         four        sedan   \n",
       "4          2         audi       gas        std         four        sedan   \n",
       "\n",
       "  drive-wheels engine-location  wheel-base  length  ...  engine-size  \\\n",
       "0          rwd           front        88.6   168.8  ...          130   \n",
       "1          rwd           front        88.6   168.8  ...          130   \n",
       "2          rwd           front        94.5   171.2  ...          152   \n",
       "3          fwd           front        99.8   176.6  ...          109   \n",
       "4          4wd           front        99.4   176.6  ...          136   \n",
       "\n",
       "   fuel-system  bore stroke compression-ratio  horsepower peak-rpm  city-mpg  \\\n",
       "0         mpfi  3.47   2.68               9.0         111     5000        21   \n",
       "1         mpfi  3.47   2.68               9.0         111     5000        21   \n",
       "2         mpfi  2.68   3.47               9.0         154     5000        19   \n",
       "3         mpfi  3.19   3.40              10.0         102     5500        24   \n",
       "4         mpfi  3.19   3.40               8.0         115     5500        18   \n",
       "\n",
       "   highway-mpg  price  \n",
       "0           27  13495  \n",
       "1           27  16500  \n",
       "2           26  16500  \n",
       "3           30  13950  \n",
       "4           22  17450  \n",
       "\n",
       "[5 rows x 25 columns]"
      ]
     },
     "execution_count": 237,
     "metadata": {},
     "output_type": "execute_result"
    }
   ],
   "source": [
    "automobile = pd.read_csv(\"automobile_pre_processados.csv\")\n",
    "automobile.head()"
   ]
  },
  {
   "cell_type": "code",
   "execution_count": 262,
   "metadata": {},
   "outputs": [
    {
     "data": {
      "text/plain": [
       "four      153\n",
       "six        24\n",
       "five       10\n",
       "eight       4\n",
       "twelve      1\n",
       "three       1\n",
       "Name: num-of-cylinders, dtype: int64"
      ]
     },
     "execution_count": 262,
     "metadata": {},
     "output_type": "execute_result"
    }
   ],
   "source": [
    "automobile[\"num-of-cylinders\"].value_counts()"
   ]
  },
  {
   "cell_type": "code",
   "execution_count": null,
   "metadata": {},
   "outputs": [],
   "source": []
  },
  {
   "cell_type": "code",
   "execution_count": 238,
   "metadata": {},
   "outputs": [],
   "source": [
    "automobile[\"make\"] = automobile[\"make\"].astype('category')\n",
    "#automobile[\"normalized-losses\"] = automobile[\"normalized-losses\"].astype('category')\n",
    "automobile[\"fuel-type\"] = automobile[\"fuel-type\"].astype('category')\n",
    "automobile[\"aspiration\"] = automobile[\"aspiration\"].astype('category')\n",
    "automobile[\"num-of-doors\"] = automobile[\"num-of-doors\"].astype('category')\n",
    "automobile[\"body-style\"] = automobile[\"body-style\"].astype('category')\n",
    "automobile[\"drive-wheels\"] = automobile[\"drive-wheels\"].astype('category')\n",
    "automobile[\"engine-location\"] = automobile[\"engine-location\"].astype('category')\n",
    "automobile[\"engine-type\"] = automobile[\"engine-type\"].astype('category')\n",
    "automobile[\"num-of-cylinders\"] = automobile[\"num-of-cylinders\"].astype('category')\n",
    "automobile[\"fuel-system\"] = automobile[\"fuel-system\"].astype('category')"
   ]
  },
  {
   "cell_type": "code",
   "execution_count": 239,
   "metadata": {},
   "outputs": [],
   "source": [
    "automobile[\"symboling\"] = automobile[\"symboling\"].astype('float64')\n",
    "#automobile[\"normalized-losses\"] = automobile[\"normalized-losses\"].astype('float64')\n",
    "automobile[\"price\"] = automobile[\"price\"].astype('float64')\n",
    "automobile[\"bore\"] = automobile[\"bore\"].astype('float64')\n",
    "automobile[\"stroke\"] = automobile[\"stroke\"].astype('float64')\n",
    "automobile[\"horsepower\"] = automobile[\"horsepower\"].astype('float64')\n",
    "automobile[\"peak-rpm\"] = automobile[\"peak-rpm\"].astype('float64')\n",
    "automobile[\"price\"] = automobile[\"price\"].astype('float64')"
   ]
  },
  {
   "cell_type": "code",
   "execution_count": 240,
   "metadata": {},
   "outputs": [
    {
     "name": "stdout",
     "output_type": "stream",
     "text": [
      "<class 'pandas.core.frame.DataFrame'>\n",
      "RangeIndex: 193 entries, 0 to 192\n",
      "Data columns (total 25 columns):\n",
      " #   Column             Non-Null Count  Dtype   \n",
      "---  ------             --------------  -----   \n",
      " 0   symboling          193 non-null    float64 \n",
      " 1   make               193 non-null    category\n",
      " 2   fuel-type          193 non-null    category\n",
      " 3   aspiration         193 non-null    category\n",
      " 4   num-of-doors       193 non-null    category\n",
      " 5   body-style         193 non-null    category\n",
      " 6   drive-wheels       193 non-null    category\n",
      " 7   engine-location    193 non-null    category\n",
      " 8   wheel-base         193 non-null    float64 \n",
      " 9   length             193 non-null    float64 \n",
      " 10  width              193 non-null    float64 \n",
      " 11  height             193 non-null    float64 \n",
      " 12  curb-weight        193 non-null    int64   \n",
      " 13  engine-type        193 non-null    category\n",
      " 14  num-of-cylinders   193 non-null    category\n",
      " 15  engine-size        193 non-null    int64   \n",
      " 16  fuel-system        193 non-null    category\n",
      " 17  bore               193 non-null    float64 \n",
      " 18  stroke             193 non-null    float64 \n",
      " 19  compression-ratio  193 non-null    float64 \n",
      " 20  horsepower         193 non-null    float64 \n",
      " 21  peak-rpm           193 non-null    float64 \n",
      " 22  city-mpg           193 non-null    int64   \n",
      " 23  highway-mpg        193 non-null    int64   \n",
      " 24  price              193 non-null    float64 \n",
      "dtypes: category(10), float64(11), int64(4)\n",
      "memory usage: 26.9 KB\n"
     ]
    }
   ],
   "source": [
    "automobile.info()"
   ]
  },
  {
   "cell_type": "code",
   "execution_count": 241,
   "metadata": {},
   "outputs": [],
   "source": [
    "class GetDummies(BaseEstimator, TransformerMixin):\n",
    "    def __init__(self):\n",
    "        print(\"init\")\n",
    "        \n",
    "    def fit(self, X, y = None):\n",
    "        return self\n",
    "    \n",
    "    def transform(self, X, y = None):\n",
    "        make = pd.get_dummies(X[\"make\"])\n",
    "        fuel_type = pd.get_dummies(X[\"fuel-type\"])\n",
    "        aspiration = pd.get_dummies(X[\"aspiration\"])\n",
    "        num_of_doors = pd.get_dummies(X[\"num-of-doors\"])\n",
    "        body_style = pd.get_dummies(X[\"body-style\"])\n",
    "        drive_wheels = pd.get_dummies(X[\"drive-wheels\"])\n",
    "        engine_location = pd.get_dummies(X[\"engine-location\"])\n",
    "        engine_type = pd.get_dummies(X[\"engine-type\"])\n",
    "        num_of_cylinders = pd.get_dummies(X[\"num-of-cylinders\"])\n",
    "        fuel_system = pd.get_dummies(X[\"fuel-system\"])\n",
    "        \n",
    "        X = X.drop([\"make\", \"fuel-type\", \"aspiration\", \"num-of-doors\", \"body-style\", \"drive-wheels\", \"engine-location\", \"engine-type\", \"num-of-cylinders\", \"fuel-system\"], axis=1)\n",
    "        X = pd.concat([X, make, fuel_type, aspiration, num_of_doors, body_style, drive_wheels, engine_location, engine_type, num_of_cylinders, fuel_system], axis=1)\n",
    "        return X"
   ]
  },
  {
   "cell_type": "code",
   "execution_count": 242,
   "metadata": {},
   "outputs": [
    {
     "name": "stdout",
     "output_type": "stream",
     "text": [
      "init\n"
     ]
    }
   ],
   "source": [
    "class TypeSelector(BaseEstimator, TransformerMixin):\n",
    "    def __init__(self, dtype):\n",
    "        self.dtype = dtype\n",
    "    def fit(self, X, y=None):\n",
    "        return self\n",
    "    def transform(self, X):        \n",
    "        assert isinstance(X, pd.DataFrame)\n",
    "        return X.select_dtypes(include=[self.dtype])\n",
    "    \n",
    "class Debug(BaseEstimator, TransformerMixin):\n",
    "    def __init__(self, dtype):\n",
    "        self.dtype = dtype\n",
    "    def fit(self, X, y=None):\n",
    "        return self\n",
    "    def transform(self, X):        \n",
    "        print(X[:,10])\n",
    "\n",
    "modelo = Pipeline([\n",
    "  ('features', FeatureUnion(\n",
    "      transformer_list=[\n",
    "          ('numericals', Pipeline([\n",
    "              ('selector', TypeSelector(np.number)),\n",
    "              #('imputer', SimpleImputer(strategy='mean')),\n",
    "              #('debug', Debug(np.number)),\n",
    "              ('scaler', MinMaxScaler())\n",
    "          ])),\n",
    "          ('categoricals', Pipeline([\n",
    "              ('selector', TypeSelector('category')),\n",
    "              ('get_dummies', GetDummies())              \n",
    "          ]))\n",
    "      ]\n",
    "  )),\n",
    "  ('model', LinearRegression())\n",
    "])"
   ]
  },
  {
   "cell_type": "code",
   "execution_count": 252,
   "metadata": {},
   "outputs": [
    {
     "data": {
      "text/plain": [
       "Pipeline(steps=[('features',\n",
       "                 FeatureUnion(transformer_list=[('numericals',\n",
       "                                                 Pipeline(steps=[('selector',\n",
       "                                                                  TypeSelector(dtype=<class 'numpy.number'>)),\n",
       "                                                                 ('scaler',\n",
       "                                                                  MinMaxScaler())])),\n",
       "                                                ('categoricals',\n",
       "                                                 Pipeline(steps=[('selector',\n",
       "                                                                  TypeSelector(dtype='category')),\n",
       "                                                                 ('get_dummies',\n",
       "                                                                  GetDummies())]))])),\n",
       "                ('model', LinearRegression())])"
      ]
     },
     "execution_count": 252,
     "metadata": {},
     "output_type": "execute_result"
    }
   ],
   "source": [
    "X = automobile.drop(\"price\", axis=1)\n",
    "Y = automobile[\"price\"]\n",
    "\n",
    "x_train, x_test, y_train, y_test = train_test_split(X, Y, test_size=0.3, random_state = 123)\n",
    "modelo.fit(x_train, y_train)"
   ]
  },
  {
   "cell_type": "code",
   "execution_count": 253,
   "metadata": {},
   "outputs": [],
   "source": [
    "y_pred = modelo.predict(x_test)\n",
    "y_pred_train = modelo.predict(x_train)"
   ]
  },
  {
   "cell_type": "code",
   "execution_count": 254,
   "metadata": {},
   "outputs": [
    {
     "data": {
      "text/plain": [
       "array([6.72000000e+03, 1.80320000e+04, 1.06720000e+04, 9.15200000e+03,\n",
       "       5.39200000e+03, 9.88800000e+03, 1.00160000e+04, 1.64640000e+04,\n",
       "       1.62400000e+04, 9.08800000e+03, 9.06992336e+15, 7.66400000e+03,\n",
       "       5.52000000e+03, 3.87520000e+04, 1.49120000e+04, 1.15680000e+04,\n",
       "       6.86400000e+03, 1.70240000e+04, 8.56000000e+03, 5.72800000e+03,\n",
       "       9.08800000e+03, 4.36518832e+16, 9.34400000e+03, 8.92800000e+03,\n",
       "       1.15360000e+04, 1.53120000e+04, 8.43200000e+03, 1.64000000e+04,\n",
       "       7.48800000e+03, 6.56000000e+03, 8.97600000e+03, 5.40800000e+03,\n",
       "       9.07200000e+03, 1.31360000e+04, 8.54400000e+03, 6.46400000e+03,\n",
       "       7.40800000e+03, 6.75200000e+03, 6.40000000e+03, 4.91200000e+03,\n",
       "       1.08800000e+04, 1.07680000e+04, 5.20000000e+03, 1.06720000e+04,\n",
       "       5.98400000e+03, 2.10720000e+04, 7.20000000e+03, 6.64000000e+03,\n",
       "       9.16800000e+03, 6.17600000e+03, 1.59520000e+04, 1.35840000e+04,\n",
       "       2.07680000e+04, 9.50400000e+03, 3.74400000e+03, 1.15680000e+04,\n",
       "       7.79200000e+03, 1.33600000e+04])"
      ]
     },
     "execution_count": 254,
     "metadata": {},
     "output_type": "execute_result"
    }
   ],
   "source": [
    "y_pred"
   ]
  },
  {
   "cell_type": "code",
   "execution_count": 226,
   "metadata": {},
   "outputs": [
    {
     "data": {
      "text/plain": [
       "0.839640487138459"
      ]
     },
     "execution_count": 226,
     "metadata": {},
     "output_type": "execute_result"
    }
   ],
   "source": [
    "r2_score(y_test, y_pred)\n",
    "#r2_score(y_train, y_pred_train)"
   ]
  },
  {
   "cell_type": "code",
   "execution_count": 259,
   "metadata": {},
   "outputs": [
    {
     "data": {
      "text/plain": [
       "symboling                0\n",
       "make                   bmw\n",
       "fuel-type              gas\n",
       "aspiration             std\n",
       "num-of-doors          four\n",
       "body-style           sedan\n",
       "drive-wheels           rwd\n",
       "engine-location      front\n",
       "wheel-base           101.2\n",
       "length               176.8\n",
       "width                 64.8\n",
       "height                54.3\n",
       "curb-weight           2395\n",
       "engine-type            ohc\n",
       "num-of-cylinders      four\n",
       "engine-size            108\n",
       "fuel-system           mpfi\n",
       "bore                   3.5\n",
       "stroke                 2.8\n",
       "compression-ratio      8.8\n",
       "horsepower             101\n",
       "peak-rpm              5800\n",
       "city-mpg                23\n",
       "highway-mpg             29\n",
       "Name: 10, dtype: object"
      ]
     },
     "execution_count": 259,
     "metadata": {},
     "output_type": "execute_result"
    }
   ],
   "source": [
    "pd.set_option('display.max_columns', None)\n",
    "\n",
    "x_test.loc[10, :]"
   ]
  },
  {
   "cell_type": "code",
   "execution_count": 248,
   "metadata": {},
   "outputs": [
    {
     "data": {
      "text/plain": [
       "array([ 5.94885773e+13,  7.67348689e+15, -4.05312781e+14])"
      ]
     },
     "execution_count": 248,
     "metadata": {},
     "output_type": "execute_result"
    }
   ],
   "source": [
    "y_pred[-5:-2]"
   ]
  },
  {
   "cell_type": "code",
   "execution_count": 249,
   "metadata": {},
   "outputs": [
    {
     "data": {
      "text/plain": [
       "17     5151.0\n",
       "42    11048.0\n",
       "41     6785.0\n",
       "Name: price, dtype: float64"
      ]
     },
     "execution_count": 249,
     "metadata": {},
     "output_type": "execute_result"
    }
   ],
   "source": [
    "y_test[-5:-2]"
   ]
  },
  {
   "cell_type": "code",
   "execution_count": null,
   "metadata": {},
   "outputs": [],
   "source": []
  }
 ],
 "metadata": {
  "kernelspec": {
   "display_name": "Python 3",
   "language": "python",
   "name": "python3"
  },
  "language_info": {
   "codemirror_mode": {
    "name": "ipython",
    "version": 3
   },
   "file_extension": ".py",
   "mimetype": "text/x-python",
   "name": "python",
   "nbconvert_exporter": "python",
   "pygments_lexer": "ipython3",
   "version": "3.8.3"
  }
 },
 "nbformat": 4,
 "nbformat_minor": 4
}
